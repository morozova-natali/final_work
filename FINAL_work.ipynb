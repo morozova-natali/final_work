{
 "cells": [
  {
   "cell_type": "code",
   "execution_count": 1,
   "id": "9a01bd47",
   "metadata": {},
   "outputs": [],
   "source": [
    "from tkinter import *\n",
    "import tkinter.messagebox as box\n",
    "import time\n",
    "import random"
   ]
  },
  {
   "cell_type": "code",
   "execution_count": 2,
   "id": "3fe6e322",
   "metadata": {},
   "outputs": [],
   "source": [
    "def quick_sort(nums): # функция сортировки быстрым методом\n",
    "    if len(nums) <= 1:\n",
    "        return nums\n",
    "    else:\n",
    "        q = random.choice(nums)\n",
    "        s_nums = []\n",
    "        m_nums = []\n",
    "        e_nums = []\n",
    "        for n in nums:\n",
    "            if n < q:\n",
    "                s_nums.append(n)\n",
    "            elif n > q:\n",
    "                m_nums.append(n)\n",
    "            else:\n",
    "                e_nums.append(n)\n",
    "        return quick_sort(s_nums) + e_nums + quick_sort(m_nums)"
   ]
  },
  {
   "cell_type": "code",
   "execution_count": 3,
   "id": "2c8369f7",
   "metadata": {},
   "outputs": [],
   "source": [
    "def bubble_sort(nums): # функция сортировки методом пузырька\n",
    "    last_elem_index = len(nums) - 1\n",
    "    for i in range(last_elem_index, 0, -1):\n",
    "        for idx in range(i):\n",
    "            if nums[idx] > nums[idx+1]:\n",
    "                nums[idx], nums[idx+1] = nums[idx+1], nums[idx]\n",
    "    return nums"
   ]
  },
  {
   "cell_type": "code",
   "execution_count": 4,
   "id": "9e22e052",
   "metadata": {},
   "outputs": [],
   "source": [
    "def merge_sort(nums):\n",
    "    if len(nums) < 2:\n",
    "        return nums[:]\n",
    "    else:\n",
    "        mid = len(nums) // 2\n",
    "        left = nums[:mid]\n",
    "        right = nums[mid:]\n",
    "        merge_sort(left)\n",
    "        merge_sort(right)\n",
    "        \n",
    "        a = 0\n",
    "        b = 0\n",
    "        c = 0\n",
    "        while a < len(left) and b < len(right):\n",
    "            if left[a] < right[b]:\n",
    "                nums[c] = left[a]\n",
    "                a = a + 1\n",
    "            else:\n",
    "                nums[c] = right[b]\n",
    "                b = b + 1\n",
    "            c = c + 1\n",
    "        while a < len(left):\n",
    "            nums[c] = left[a]\n",
    "            a = a + 1\n",
    "            c = c + 1\n",
    "        while b < len(right):\n",
    "            nums[c] = right[b]\n",
    "            b = b + 1\n",
    "            c = c + 1\n",
    "        return nums"
   ]
  },
  {
   "cell_type": "code",
   "execution_count": 5,
   "id": "3d21cbb5",
   "metadata": {},
   "outputs": [],
   "source": [
    "def dialog(): # функция создания диалогового окна \n",
    "    try:\n",
    "        nums = entry.get().replace(' ', '').split(',') # приобразуем строку в список элементов str\n",
    "        nums = [float(i) for i in nums] # приобразуем список str в список int\n",
    "    except ValueError:\n",
    "        # создаем сообщение диалогового окна при возникновении исключения \n",
    "        box.showinfo(\"ОШИБКА\", \"Вы ввели недопустимую последовательность!\\n\\n\" + entry.get() + \"\\n\\nПопробуйте еще раз... \")\n",
    "    else:\n",
    "        s = f\"Метод {book.get()}\\nОтсортированный список:\\n\\n\"\n",
    "        start_time = time.time() # начальное время\n",
    "        if book.get() == 'quick_sort': \n",
    "            s = f\"{s}{quick_sort(nums)}\"\n",
    "        if book.get() == 'bubble_sort': \n",
    "            s = f\"{s}{bubble_sort(nums)}\"\n",
    "        if book.get() == 'merge_sort': \n",
    "            s = f\"{s}{merge_sort(nums)}\"\n",
    "        end_time = time.time() # конечное время\n",
    "        execution_time = (end_time - start_time)*1000 # время выполнения сортировки в мс.\n",
    "        s = f\"{s}\\n\\nВремя выполнения сортировки : {execution_time}мс.\"\n",
    "        box.showinfo(\"Отсортированный список\", s) # создаем сообщение диалогового окна с выводом результата"
   ]
  },
  {
   "cell_type": "code",
   "execution_count": 6,
   "id": "40ec0407",
   "metadata": {
    "scrolled": true
   },
   "outputs": [],
   "source": [
    "window = Tk() #Создаем окно\n",
    "window.title(\"Сортировка данных\") #Создаем заголовок окна\n",
    "#Создаем 3 Фрейма\n",
    "frame_1 = Frame(window)\n",
    "frame_2 = Frame(window)\n",
    "frame_3 = Frame(window)\n",
    "#Создаем поле ввода и привязываем его к фрейму 1\n",
    "entry = Entry(frame_1, width=80)\n",
    "#Записываем в переменную вариант выбранного флажка\n",
    "book = StringVar()\n",
    "#Создаем флажки\n",
    "r_1 = Radiobutton(frame_2, text = 'quick_sort (быстрая)', variable = book, value = 'quick_sort')\n",
    "r_2 = Radiobutton(frame_2, text = 'bubble_sort (пузырьком)', variable = book, value = 'bubble_sort')\n",
    "r_3 = Radiobutton(frame_2, text = 'merge_sort (слиянием)', variable = book, value = 'merge_sort')\n",
    "#Размещаем флажки\n",
    "r_1.pack(side = BOTTOM, padx = 10)\n",
    "r_2.pack(side = BOTTOM, padx = 10)\n",
    "r_3.pack(side = BOTTOM, padx = 10)\n",
    "#Устанавливаем переключатель при запуске в 3 положение (верхнее)\n",
    "r_3.select()\n",
    "#Создаем кнопку, которая будет вызывать функцию dialog\n",
    "btn = Button(frame_3, width=20, height=1, text = \"Start\", bg = \"lightgreen\", command = dialog)\n",
    "#Размещаем кнопку в окне снизу\n",
    "btn.pack(side = BOTTOM, padx = 20, pady = 10)\n",
    "# Создаем 2 метки в разных фреймах label = Label(window, bg = \"blue\" , fg = \"yellow\", text = \"Текст\", font = \"Arial 16\")\n",
    "lb_1 = Label(frame_1, text = \"Введите  последовательность чисел через запятую :\") \n",
    "lb_2 = Label(frame_2, text = \"Выбирите вариант сортировки:\")\n",
    "#Располагаем метки сверху \n",
    "lb_1.pack(side = TOP)\n",
    "lb_2.pack(side = TOP)\n",
    "#Размещаем поле ввода в окне снизу\n",
    "entry.pack(side = BOTTOM, padx = 40)\n",
    "# Располагаем фреймы вертикально один под другим\n",
    "frame_1.pack(padx = 80, pady = 20)\n",
    "frame_2.pack(padx = 80, pady = 20)\n",
    "frame_3.pack(padx = 80, pady = 5)\n",
    "#Цикл обработки событий окна\n",
    "window.mainloop()"
   ]
  }
 ],
 "metadata": {
  "kernelspec": {
   "display_name": "Python 3 (ipykernel)",
   "language": "python",
   "name": "python3"
  },
  "language_info": {
   "codemirror_mode": {
    "name": "ipython",
    "version": 3
   },
   "file_extension": ".py",
   "mimetype": "text/x-python",
   "name": "python",
   "nbconvert_exporter": "python",
   "pygments_lexer": "ipython3",
   "version": "3.11.5"
  }
 },
 "nbformat": 4,
 "nbformat_minor": 5
}
